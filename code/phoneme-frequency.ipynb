{
 "cells": [
  {
   "cell_type": "markdown",
   "metadata": {},
   "source": [
    "# Bayesian Classification By Phoneme Frequency\n",
    "Camille Girard\n",
    "\n",
    "Jonah Spicher"
   ]
  },
  {
   "cell_type": "markdown",
   "metadata": {},
   "source": [
    "## Abstract"
   ]
  },
  {
   "cell_type": "markdown",
   "metadata": {},
   "source": [
    "For this project we would like to recognize the language of a word based on the phonemes in the word. Given a word, input in its phoneme form, and a predefined dataset of phoneme frequency in each language being tested, we will run through all the phonemes in the word and calculate the probability of each language. Combining all the phonemes of the word will return an updated probability that the observed word is in that language. \n",
    "\n",
    "Question: Let's say you are in a place where people are speaking five languages: English, Spanish, Mandarin, and Arabic. You overhear someone say a word, based on the sounds in that word, which language are they speaking? "
   ]
  },
  {
   "cell_type": "markdown",
   "metadata": {},
   "source": [
    "## Introduction\n",
    "Usualy, it is fairly easy to tell what language someone is speaking just by hearing it, at least assuming you have heard that language spoken before. The information is being conveyed (obviously) by the sounds they are making, so it should be possible to guess the language of a word given the sounds that make that word up. Bayesian classification provides a fairly straightforward solution: figure out how often those phonemes appear in a given language, and the probability that you heard that language followes from Bayes theorem. "
   ]
  },
  {
   "cell_type": "markdown",
   "metadata": {},
   "source": [
    "## Code"
   ]
  },
  {
   "cell_type": "code",
   "execution_count": 1,
   "metadata": {
    "collapsed": true
   },
   "outputs": [],
   "source": [
    "# Configure Jupyter so figures appear in the notebook\n",
    "%matplotlib inline\n",
    "\n",
    "# Configure Jupyter to display the assigned value after an assignment\n",
    "%config InteractiveShell.ast_node_interactivity='last_expr_or_assign'\n",
    "\n",
    "import math\n",
    "import numpy as np\n",
    "\n",
    "from thinkbayes2 import Pmf, Cdf, Suite\n",
    "import thinkplot"
   ]
  },
  {
   "cell_type": "markdown",
   "metadata": {},
   "source": [
    "We start with an even prior. This is obviously not a reasonable decision in real life. At the most basic level, you would want to factor in the percentage of people in the world who speak each language, but in reality your prior will skew heavily towards the domnant languages in your area. For this toy example in a mysterious room with only these four (somewhat random) languages, it seems like a reasonable choice, and will at least show how strong of evidence each word offers. Really, this project isn't about the actual likelihood of each language, but rather whether a word was evidence for or against each language.\n",
    "\n",
    "We chose to work with English, Spanish, Arabic, and Mandarin, partially due to phonetic differences, and partially due to the availability of data."
   ]
  },
  {
   "cell_type": "code",
   "execution_count": 2,
   "metadata": {},
   "outputs": [
    {
     "name": "stdout",
     "output_type": "stream",
     "text": [
      "Arabic 0.25\n",
      "English 0.25\n",
      "Mandarin 0.25\n",
      "Spanish 0.25\n"
     ]
    }
   ],
   "source": [
    "languages = ['English', 'Spanish','Arabic', 'Mandarin']\n",
    "lang_prior = Pmf(languages)\n",
    "lang_prior.Print()"
   ]
  },
  {
   "cell_type": "markdown",
   "metadata": {},
   "source": [
    "### Classification code\n",
    "\n",
    "Next, we need to define our suite and its parameters. For now, a naive Bayesian model seems fine, but given time we will revisit this decision, as this ignores dipthongs, which often are defining features in a language. Here, though, our data is just a series of phonemes, and our hypothesis is a language. The likelihood, then, is just how often the given phoneme appears in our hypothetical language. We have stored these values in a .csv file, so likelihood is just a simple lookup."
   ]
  },
  {
   "cell_type": "code",
   "execution_count": 3,
   "metadata": {},
   "outputs": [
    {
     "data": {
      "text/html": [
       "<div>\n",
       "<style scoped>\n",
       "    .dataframe tbody tr th:only-of-type {\n",
       "        vertical-align: middle;\n",
       "    }\n",
       "\n",
       "    .dataframe tbody tr th {\n",
       "        vertical-align: top;\n",
       "    }\n",
       "\n",
       "    .dataframe thead th {\n",
       "        text-align: right;\n",
       "    }\n",
       "</style>\n",
       "<table border=\"1\" class=\"dataframe\">\n",
       "  <thead>\n",
       "    <tr style=\"text-align: right;\">\n",
       "      <th></th>\n",
       "      <th>Phonemes</th>\n",
       "      <th>English</th>\n",
       "      <th>Spanish</th>\n",
       "      <th>Mandarin</th>\n",
       "      <th>Arabic</th>\n",
       "    </tr>\n",
       "  </thead>\n",
       "  <tbody>\n",
       "    <tr>\n",
       "      <th>0</th>\n",
       "      <td>ə</td>\n",
       "      <td>0.1149</td>\n",
       "      <td>0.000</td>\n",
       "      <td>0.000000</td>\n",
       "      <td>0.000000</td>\n",
       "    </tr>\n",
       "    <tr>\n",
       "      <th>1</th>\n",
       "      <td>n</td>\n",
       "      <td>0.0711</td>\n",
       "      <td>0.071</td>\n",
       "      <td>0.082144</td>\n",
       "      <td>0.057047</td>\n",
       "    </tr>\n",
       "    <tr>\n",
       "      <th>2</th>\n",
       "      <td>r</td>\n",
       "      <td>0.0694</td>\n",
       "      <td>0.054</td>\n",
       "      <td>0.005955</td>\n",
       "      <td>0.080537</td>\n",
       "    </tr>\n",
       "    <tr>\n",
       "      <th>3</th>\n",
       "      <td>t</td>\n",
       "      <td>0.0691</td>\n",
       "      <td>0.045</td>\n",
       "      <td>0.016942</td>\n",
       "      <td>0.020134</td>\n",
       "    </tr>\n",
       "    <tr>\n",
       "      <th>4</th>\n",
       "      <td>ɪ</td>\n",
       "      <td>0.0632</td>\n",
       "      <td>0.000</td>\n",
       "      <td>0.000000</td>\n",
       "      <td>0.000000</td>\n",
       "    </tr>\n",
       "  </tbody>\n",
       "</table>\n",
       "</div>"
      ],
      "text/plain": [
       "  Phonemes  English  Spanish  Mandarin    Arabic\n",
       "0        ə   0.1149    0.000  0.000000  0.000000\n",
       "1        n   0.0711    0.071  0.082144  0.057047\n",
       "2        r   0.0694    0.054  0.005955  0.080537\n",
       "3        t   0.0691    0.045  0.016942  0.020134\n",
       "4        ɪ   0.0632    0.000  0.000000  0.000000"
      ]
     },
     "execution_count": 3,
     "metadata": {},
     "output_type": "execute_result"
    }
   ],
   "source": [
    "import pandas as pd\n",
    "loc = \"/home/jonah/Bayesian-Phoneme-Frequencies/code/\" # Jonah's laptop\n",
    "# loc = \"/home/cgirard/Bayesian-Phoneme-Frequencies/code/\" # Camille's laptop\n",
    "document = loc + \"Phonemes - Sheet1.csv\"\n",
    "df = pd.read_csv(document)\n",
    "df.head()"
   ]
  },
  {
   "cell_type": "markdown",
   "metadata": {},
   "source": [
    "To account for imperfections in the data, if a phoneme does not appear (has a frequency of 0%) we chose to add a small amount so that each language wasn't ruled out immediately. Other than that, the likelihood is the product of the frequency of each phoneme in the word. "
   ]
  },
  {
   "cell_type": "code",
   "execution_count": 4,
   "metadata": {},
   "outputs": [],
   "source": [
    "class Language(Suite):\n",
    "    \n",
    "    def Likelihood(self, data, hypo):\n",
    "        \"\"\"\n",
    "        data: list of phonemes \n",
    "        hypo: name of languages\n",
    "        \"\"\"\n",
    "        language = hypo\n",
    "        like = 1\n",
    "        for i in data:\n",
    "            #lookup the row number of that phoneme\n",
    "            row = df.loc[df['Phonemes']==i].index\n",
    "            if row.size < 1:\n",
    "                #if the phoneme is not in the data\n",
    "                like *= 0.0001\n",
    "            else:\n",
    "                value = df[language][row[0]]\n",
    "                if value <= 0:\n",
    "                    like *= 0.0001\n",
    "                else:\n",
    "                    like *= value\n",
    "        return like"
   ]
  },
  {
   "cell_type": "markdown",
   "metadata": {},
   "source": [
    "## Results\n",
    "Now, we just have to feed the Suite each word (in IPA) and it should get a decent idea of which language each word belongs to. For this section, we chose two words at random and translated them into IPA for each language."
   ]
  },
  {
   "cell_type": "markdown",
   "metadata": {},
   "source": [
    "First, the word \"Thursday,\" and each relevant translation of thursday."
   ]
  },
  {
   "cell_type": "code",
   "execution_count": 5,
   "metadata": {},
   "outputs": [
    {
     "name": "stdout",
     "output_type": "stream",
     "text": [
      "Arabic 2.5385443996418426e-05\n",
      "English 0.9999737483342728\n",
      "Mandarin 1.5921999732097614e-13\n",
      "Spanish 8.662215715191208e-07\n"
     ]
    },
    {
     "data": {
      "image/png": "[encoded data removed]",
      "text/plain": [
       "<Figure size 432x288 with 1 Axes>"
      ]
     },
     "metadata": {},
     "output_type": "display_data"
    }
   ],
   "source": [
    "lang_dist = Language(lang_prior)\n",
    "word = ['θ','ɜ','r','z','d','e', 'ɪ'] # Thursday\n",
    "lang_dist.Update(word)\n",
    "lang_dist.Print()\n",
    "thinkplot.Hist(lang_dist)"
   ]
  },
  {
   "cell_type": "markdown",
   "metadata": {},
   "source": [
    "It gets Spanish pretty wrong, likely because this word doesn't use any terribly unique phonemes in Spanish."
   ]
  },
  {
   "cell_type": "code",
   "execution_count": 6,
   "metadata": {},
   "outputs": [
    {
     "name": "stdout",
     "output_type": "stream",
     "text": [
      "Arabic 4.4016521710834596e-07\n",
      "English 0.9964665664242205\n",
      "Mandarin 5.231399238775734e-10\n",
      "Spanish 0.003532992887422357\n"
     ]
    },
    {
     "data": {
      "image/png": "[encoded data removed]",
      "text/plain": [
       "<Figure size 432x288 with 1 Axes>"
      ]
     },
     "metadata": {},
     "output_type": "display_data"
    }
   ],
   "source": [
    "lang_dist = Language(lang_prior)\n",
    "word = ['H','w','e','v','e','s'] # Jueves\n",
    "lang_dist.Update(word)\n",
    "lang_dist.Print()\n",
    "thinkplot.Hist(lang_dist)"
   ]
  },
  {
   "cell_type": "code",
   "execution_count": 7,
   "metadata": {},
   "outputs": [
    {
     "name": "stdout",
     "output_type": "stream",
     "text": [
      "Arabic 0.5897905659241904\n",
      "English 0.0011339358287135845\n",
      "Mandarin 0.24337127822551957\n",
      "Spanish 0.16570422002157642\n"
     ]
    },
    {
     "data": {
      "image/png": "[encoded data removed]",
      "text/plain": [
       "<Figure size 432x288 with 1 Axes>"
      ]
     },
     "metadata": {},
     "output_type": "display_data"
    }
   ],
   "source": [
    "lang_dist = Language(lang_prior)\n",
    "word = ['a:','l','x','a:','m','i','sˤ'] #  الخميس\n",
    "lang_dist.Update(word)\n",
    "lang_dist.Print()\n",
    "thinkplot.Hist(lang_dist)"
   ]
  },
  {
   "cell_type": "code",
   "execution_count": 8,
   "metadata": {},
   "outputs": [
    {
     "name": "stdout",
     "output_type": "stream",
     "text": [
      "Arabic 1.2329210572083703e-12\n",
      "English 0.00625257042084591\n",
      "Mandarin 0.9929836503515591\n",
      "Spanish 0.0007637792263620646\n"
     ]
    },
    {
     "data": {
      "image/png": "[encoded data removed]",
      "text/plain": [
       "<Figure size 432x288 with 1 Axes>"
      ]
     },
     "metadata": {},
     "output_type": "display_data"
    }
   ],
   "source": [
    "lang_dist = Language(lang_prior)\n",
    "word = ['ɕ','i','ŋ','ts','i','s','i'] # 星期四\n",
    "lang_dist.Update(word)\n",
    "lang_dist.Print()\n",
    "thinkplot.Hist(lang_dist)"
   ]
  },
  {
   "cell_type": "markdown",
   "metadata": {},
   "source": [
    "So we correctly classified three of the four words.\n",
    "\n",
    "Next, \"Dog.\""
   ]
  },
  {
   "cell_type": "code",
   "execution_count": 9,
   "metadata": {},
   "outputs": [
    {
     "name": "stdout",
     "output_type": "stream",
     "text": [
      "Arabic 0.008264462809917356\n",
      "English 0.975206611570248\n",
      "Mandarin 0.008264462809917356\n",
      "Spanish 0.008264462809917356\n"
     ]
    },
    {
     "data": {
      "image/png": "[encoded data removed]",
      "text/plain": [
       "<Figure size 432x288 with 1 Axes>"
      ]
     },
     "metadata": {},
     "output_type": "display_data"
    }
   ],
   "source": [
    "lang_dist = Language(lang_prior)\n",
    "word = ['D', 'ɒ', 'ɡ'] # Dog\n",
    "lang_dist.Update(word)\n",
    "lang_dist.Print()\n",
    "thinkplot.Hist(lang_dist)"
   ]
  },
  {
   "cell_type": "code",
   "execution_count": 10,
   "metadata": {},
   "outputs": [
    {
     "name": "stdout",
     "output_type": "stream",
     "text": [
      "Arabic 1.5570896729655457e-08\n",
      "English 0.0003483988143260409\n",
      "Mandarin 1.5570896729655457e-08\n",
      "Spanish 0.9996515700438804\n"
     ]
    },
    {
     "data": {
      "image/png": "[encoded data removed]",
      "text/plain": [
       "<Figure size 432x288 with 1 Axes>"
      ]
     },
     "metadata": {},
     "output_type": "display_data"
    }
   ],
   "source": [
    "lang_dist = Language(lang_prior)\n",
    "word = ['p', 'e', 'rr', 'o'] # Perro\n",
    "lang_dist.Update(word)\n",
    "lang_dist.Print()\n",
    "thinkplot.Hist(lang_dist)"
   ]
  },
  {
   "cell_type": "code",
   "execution_count": 11,
   "metadata": {},
   "outputs": [
    {
     "name": "stdout",
     "output_type": "stream",
     "text": [
      "Arabic 0.6433159968279458\n",
      "English 0.10942563339044128\n",
      "Mandarin 9.253687161725321e-05\n",
      "Spanish 0.24716583290999566\n"
     ]
    },
    {
     "data": {
      "image/png": "[encoded data removed]",
      "text/plain": [
       "<Figure size 432x288 with 1 Axes>"
      ]
     },
     "metadata": {},
     "output_type": "display_data"
    }
   ],
   "source": [
    "lang_dist = Language(lang_prior)\n",
    "word = ['aː', 'l', 'k', 'a:', 'l', 'b'] #  الكلب\n",
    "lang_dist.Update(word)\n",
    "lang_dist.Print()\n",
    "thinkplot.Hist(lang_dist)"
   ]
  },
  {
   "cell_type": "code",
   "execution_count": 12,
   "metadata": {},
   "outputs": [
    {
     "name": "stdout",
     "output_type": "stream",
     "text": [
      "Arabic 0.25277486417360306\n",
      "English 0.26615508033375324\n",
      "Mandarin 0.12117482107907812\n",
      "Spanish 0.3598952344135656\n"
     ]
    },
    {
     "data": {
      "image/png": "[encoded data removed]",
      "text/plain": [
       "<Figure size 432x288 with 1 Axes>"
      ]
     },
     "metadata": {},
     "output_type": "display_data"
    }
   ],
   "source": [
    "lang_dist = Language(lang_prior)\n",
    "word = ['k', 'au'] # 狗\n",
    "lang_dist.Update(word)\n",
    "lang_dist.Print()\n",
    "thinkplot.Hist(lang_dist)"
   ]
  },
  {
   "cell_type": "markdown",
   "metadata": {},
   "source": [
    "Gao is a pretty short word, so this classifier doesn't have a ton of information. But, with the little information it had, it was confidently working in the wrong direction."
   ]
  },
  {
   "cell_type": "markdown",
   "metadata": {},
   "source": [
    "This attempt was also accurate on three out of four, but this time the problem was Mandarin, and the issues was probably the fact that Gao isn't very long, and thus doesn't provide much information. With the information it had, the classifier worked confidently in the wrong direction."
   ]
  },
  {
   "cell_type": "markdown",
   "metadata": {},
   "source": [
    "## Conclusion"
   ]
  },
  {
   "cell_type": "markdown",
   "metadata": {},
   "source": [
    "The results show that reading a lanuage from a words' phonemes is possible and the classifier gives the correct answer about 75% of the time. This is likely due in part to the limited data that only encompasses some of the phonemes and the lack of comprehensiveness of the likelihood of one phoneme following another in each language. If we were to continue, we would spend more time finding accurate phoneme frequency charts, ideally for more languages, and streamline the process of representing words as phonemes (which currently involves a lot of the Help:IPA pages on Wikipedia). To increase accuracy, we would also expand our model to account for correlation between phonemes. "
   ]
  },
  {
   "cell_type": "markdown",
   "metadata": {},
   "source": [
    "Given overhearing a word you can find which language they are speaking based on the phonemes. In this clalssifier the data and assumptions cause some miclassification of words, but can genreally give a good idea, especially with unique phonemes and longer words. "
   ]
  }
 ],
 "metadata": {
  "kernelspec": {
   "display_name": "Python 3",
   "language": "python",
   "name": "python3"
  },
  "language_info": {
   "codemirror_mode": {
    "name": "ipython",
    "version": 3
   },
   "file_extension": ".py",
   "mimetype": "text/x-python",
   "name": "python",
   "nbconvert_exporter": "python",
   "pygments_lexer": "ipython3",
   "version": "3.6.5"
  }
 },
 "nbformat": 4,
 "nbformat_minor": 2
}
